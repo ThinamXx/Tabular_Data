{
 "cells": [
  {
   "cell_type": "markdown",
   "metadata": {},
   "source": [
    "### **Model Development**\n",
    "* In this Project, I am going to implement __KNeighbors Classfier__. I am going to work on __John's Food Delivery__ problem. From the dataset of John's food delivery recordings, I will predict whether he will deliver the food in time or he will be late."
   ]
  },
  {
   "cell_type": "markdown",
   "metadata": {},
   "source": [
    "#### **Initialization**\n",
    "* I use these 3 lines of code on top of my each notebook because it won't cause any trouble while reloading or reworking on the Project or Problem. And the third line of code helps to make visualization within the Notebook."
   ]
  },
  {
   "cell_type": "code",
   "execution_count": 1,
   "metadata": {},
   "outputs": [],
   "source": [
    "# Initialization\n",
    "%reload_ext autoreload\n",
    "%autoreload 2\n",
    "%matplotlib inline"
   ]
  },
  {
   "cell_type": "markdown",
   "metadata": {},
   "source": [
    "#### **Downloading the Dependencies**\n",
    "* I prefer to download all necessary Libraries and Dependencies on one particular cell which mainly focus on Libraries and Dependencies."
   ]
  },
  {
   "cell_type": "code",
   "execution_count": 2,
   "metadata": {},
   "outputs": [],
   "source": [
    "# Downloading the Libraries and Dependencies\n",
    "import numpy as np\n",
    "import pandas as pd\n",
    "import matplotlib.pyplot as plt\n",
    "\n",
    "from sklearn.neighbors import KNeighborsClassifier\n",
    "from sklearn.metrics import confusion_matrix\n",
    "from sklearn.metrics import classification_report, accuracy_score"
   ]
  },
  {
   "cell_type": "markdown",
   "metadata": {},
   "source": [
    "#### **Preparing the Dataset**\n",
    "* The dataset for John's Food Delivery is prepared manually. It is prepared using __numpy__ where __numpy__ is high performance array processing package."
   ]
  },
  {
   "cell_type": "code",
   "execution_count": 3,
   "metadata": {},
   "outputs": [
    {
     "name": "stdout",
     "output_type": "stream",
     "text": [
      "[[0.   1.   5.   1.   0.  ]\n",
      " [1.   0.   7.   0.   1.  ]\n",
      " [0.   1.   2.   1.   0.  ]\n",
      " [1.   1.   4.2  1.   0.  ]\n",
      " [0.   0.   7.8  0.   1.  ]\n",
      " [1.   0.   3.9  1.   0.  ]\n",
      " [0.   1.   4.   1.   0.  ]\n",
      " [1.   1.   2.   0.   0.  ]\n",
      " [0.   0.   3.5  0.   1.  ]\n",
      " [1.   0.   2.6  1.   0.  ]\n",
      " [0.   0.   4.1  0.   1.  ]\n",
      " [0.   1.   1.5  0.   1.  ]\n",
      " [1.   1.   1.75 1.   0.  ]\n",
      " [1.   0.   1.3  0.   0.  ]\n",
      " [1.   1.   2.1  0.   0.  ]\n",
      " [1.   1.   0.2  1.   0.  ]\n",
      " [1.   1.   5.2  0.   1.  ]\n",
      " [0.   1.   2.   1.   0.  ]\n",
      " [1.   0.   5.5  0.   1.  ]\n",
      " [0.   0.   2.   1.   0.  ]\n",
      " [1.   1.   1.7  0.   0.  ]\n",
      " [0.   1.   3.   1.   1.  ]\n",
      " [1.   1.   1.9  1.   0.  ]\n",
      " [0.   1.   3.1  0.   1.  ]\n",
      " [0.   1.   2.3  0.   0.  ]\n",
      " [0.   0.   1.1  1.   0.  ]\n",
      " [1.   1.   2.5  1.   1.  ]\n",
      " [1.   1.   5.   0.   1.  ]\n",
      " [1.   0.   7.5  1.   1.  ]\n",
      " [0.   0.   0.5  1.   0.  ]\n",
      " [0.   0.   1.5  1.   0.  ]\n",
      " [1.   0.   3.2  1.   0.  ]\n",
      " [0.   0.   2.15 1.   0.  ]\n",
      " [1.   1.   4.2  0.   1.  ]\n",
      " [1.   0.   6.5  0.   1.  ]\n",
      " [1.   0.   0.5  0.   0.  ]\n",
      " [0.   0.   3.5  0.   1.  ]\n",
      " [0.   0.   1.75 0.   0.  ]\n",
      " [1.   1.   5.   0.   1.  ]\n",
      " [0.   0.   2.   1.   0.  ]\n",
      " [0.   1.   1.3  1.   1.  ]\n",
      " [0.   1.   0.2  0.   0.  ]\n",
      " [1.   1.   2.2  0.   0.  ]\n",
      " [0.   1.   1.2  1.   0.  ]\n",
      " [1.   1.   4.2  0.   1.  ]]\n"
     ]
    }
   ],
   "source": [
    "# Preparing John's Food Delivery dataset\n",
    "data = np.array([[0, 1, 5, 1, 0],  \n",
    "                [1, 0, 7, 0, 1],   \n",
    "                [0, 1, 2, 1, 0],   \n",
    "                [1, 1, 4.2, 1, 0], \n",
    "                [0, 0, 7.8, 0, 1],\n",
    "                [1, 0, 3.9, 1, 0],\n",
    "                [0, 1, 4, 1, 0],\n",
    "                [1, 1, 2, 0, 0],\n",
    "                [0, 0, 3.5, 0, 1],\n",
    "                [1, 0, 2.6, 1, 0],\n",
    "                [0, 0, 4.1, 0, 1],\n",
    "                [0, 1, 1.5, 0, 1],\n",
    "                [1, 1, 1.75, 1, 0],\n",
    "                [1, 0, 1.3, 0, 0],\n",
    "                [1, 1, 2.1, 0, 0],\n",
    "                [1, 1, 0.2, 1, 0],\n",
    "                [1, 1, 5.2, 0, 1],\n",
    "                [0, 1, 2, 1, 0],\n",
    "                [1, 0, 5.5, 0, 1],\n",
    "                [0, 0, 2, 1, 0],\n",
    "                [1, 1, 1.7, 0, 0],\n",
    "                [0, 1, 3, 1, 1],\n",
    "                [1, 1, 1.9, 1, 0],\n",
    "                [0, 1, 3.1, 0, 1],\n",
    "                [0, 1, 2.3, 0, 0],\n",
    "                [0, 0, 1.1, 1, 0],\n",
    "                [1, 1, 2.5, 1, 1],\n",
    "                [1, 1, 5, 0, 1],\n",
    "                [1, 0, 7.5, 1, 1],\n",
    "                [0, 0, 0.5, 1, 0],\n",
    "                [0, 0, 1.5, 1, 0],\n",
    "                [1, 0, 3.2, 1, 0],\n",
    "                [0, 0, 2.15, 1, 0],\n",
    "                [1, 1, 4.2, 0, 1],\n",
    "                [1, 0, 6.5, 0, 1],\n",
    "                [1, 0, 0.5, 0, 0],\n",
    "                [0, 0, 3.5, 0, 1],\n",
    "                [0, 0, 1.75, 0, 0],\n",
    "                [1, 1, 5, 0, 1],\n",
    "                [0, 0, 2, 1, 0],\n",
    "                [0, 1, 1.3, 1, 1],\n",
    "                [0, 1, 0.2, 0, 0],\n",
    "                [1, 1, 2.2, 0, 0],\n",
    "                [0, 1, 1.2, 1, 0],\n",
    "                [1, 1, 4.2, 0, 1]])\n",
    "\n",
    "# Printing the Data\n",
    "print(data)"
   ]
  },
  {
   "cell_type": "markdown",
   "metadata": {},
   "source": [
    "**Preparing DataFrame**\n",
    "* Writing our Dataset into pandas DataFrame and labelling the columns for easier access."
   ]
  },
  {
   "cell_type": "code",
   "execution_count": 4,
   "metadata": {},
   "outputs": [
    {
     "data": {
      "text/html": [
       "<div>\n",
       "<style scoped>\n",
       "    .dataframe tbody tr th:only-of-type {\n",
       "        vertical-align: middle;\n",
       "    }\n",
       "\n",
       "    .dataframe tbody tr th {\n",
       "        vertical-align: top;\n",
       "    }\n",
       "\n",
       "    .dataframe thead th {\n",
       "        text-align: right;\n",
       "    }\n",
       "</style>\n",
       "<table border=\"1\" class=\"dataframe\">\n",
       "  <thead>\n",
       "    <tr style=\"text-align: right;\">\n",
       "      <th></th>\n",
       "      <th>bad_weather</th>\n",
       "      <th>rush_hour</th>\n",
       "      <th>mile_distance</th>\n",
       "      <th>urban_address</th>\n",
       "      <th>late</th>\n",
       "    </tr>\n",
       "  </thead>\n",
       "  <tbody>\n",
       "    <tr>\n",
       "      <th>0</th>\n",
       "      <td>0.0</td>\n",
       "      <td>1.0</td>\n",
       "      <td>5.0</td>\n",
       "      <td>1.0</td>\n",
       "      <td>0.0</td>\n",
       "    </tr>\n",
       "    <tr>\n",
       "      <th>1</th>\n",
       "      <td>1.0</td>\n",
       "      <td>0.0</td>\n",
       "      <td>7.0</td>\n",
       "      <td>0.0</td>\n",
       "      <td>1.0</td>\n",
       "    </tr>\n",
       "    <tr>\n",
       "      <th>2</th>\n",
       "      <td>0.0</td>\n",
       "      <td>1.0</td>\n",
       "      <td>2.0</td>\n",
       "      <td>1.0</td>\n",
       "      <td>0.0</td>\n",
       "    </tr>\n",
       "    <tr>\n",
       "      <th>3</th>\n",
       "      <td>1.0</td>\n",
       "      <td>1.0</td>\n",
       "      <td>4.2</td>\n",
       "      <td>1.0</td>\n",
       "      <td>0.0</td>\n",
       "    </tr>\n",
       "    <tr>\n",
       "      <th>4</th>\n",
       "      <td>0.0</td>\n",
       "      <td>0.0</td>\n",
       "      <td>7.8</td>\n",
       "      <td>0.0</td>\n",
       "      <td>1.0</td>\n",
       "    </tr>\n",
       "    <tr>\n",
       "      <th>5</th>\n",
       "      <td>1.0</td>\n",
       "      <td>0.0</td>\n",
       "      <td>3.9</td>\n",
       "      <td>1.0</td>\n",
       "      <td>0.0</td>\n",
       "    </tr>\n",
       "    <tr>\n",
       "      <th>6</th>\n",
       "      <td>0.0</td>\n",
       "      <td>1.0</td>\n",
       "      <td>4.0</td>\n",
       "      <td>1.0</td>\n",
       "      <td>0.0</td>\n",
       "    </tr>\n",
       "    <tr>\n",
       "      <th>7</th>\n",
       "      <td>1.0</td>\n",
       "      <td>1.0</td>\n",
       "      <td>2.0</td>\n",
       "      <td>0.0</td>\n",
       "      <td>0.0</td>\n",
       "    </tr>\n",
       "    <tr>\n",
       "      <th>8</th>\n",
       "      <td>0.0</td>\n",
       "      <td>0.0</td>\n",
       "      <td>3.5</td>\n",
       "      <td>0.0</td>\n",
       "      <td>1.0</td>\n",
       "    </tr>\n",
       "    <tr>\n",
       "      <th>9</th>\n",
       "      <td>1.0</td>\n",
       "      <td>0.0</td>\n",
       "      <td>2.6</td>\n",
       "      <td>1.0</td>\n",
       "      <td>0.0</td>\n",
       "    </tr>\n",
       "  </tbody>\n",
       "</table>\n",
       "</div>"
      ],
      "text/plain": [
       "   bad_weather  rush_hour  mile_distance  urban_address  late\n",
       "0          0.0        1.0            5.0            1.0   0.0\n",
       "1          1.0        0.0            7.0            0.0   1.0\n",
       "2          0.0        1.0            2.0            1.0   0.0\n",
       "3          1.0        1.0            4.2            1.0   0.0\n",
       "4          0.0        0.0            7.8            0.0   1.0\n",
       "5          1.0        0.0            3.9            1.0   0.0\n",
       "6          0.0        1.0            4.0            1.0   0.0\n",
       "7          1.0        1.0            2.0            0.0   0.0\n",
       "8          0.0        0.0            3.5            0.0   1.0\n",
       "9          1.0        0.0            2.6            1.0   0.0"
      ]
     },
     "execution_count": 4,
     "metadata": {},
     "output_type": "execute_result"
    }
   ],
   "source": [
    "# Preparing the DataFrame and labelling the columns\n",
    "delivery_data = pd.DataFrame(data, columns=[\"bad_weather\", \"rush_hour\", \"mile_distance\", \"urban_address\", \"late\"])\n",
    "\n",
    "# Looking at the DataFrame\n",
    "delivery_data.head(10)"
   ]
  },
  {
   "cell_type": "markdown",
   "metadata": {},
   "source": [
    "**Processing the DataFrame**"
   ]
  },
  {
   "cell_type": "code",
   "execution_count": 5,
   "metadata": {},
   "outputs": [
    {
     "data": {
      "text/plain": [
       "(45, 5)"
      ]
     },
     "execution_count": 5,
     "metadata": {},
     "output_type": "execute_result"
    }
   ],
   "source": [
    "# Looking the shape of Data\n",
    "delivery_data.shape"
   ]
  },
  {
   "cell_type": "markdown",
   "metadata": {},
   "source": [
    "* Splitting the data into Training(85%) and Testing(15%) to predict the accuracy of the model into unseen data."
   ]
  },
  {
   "cell_type": "code",
   "execution_count": 6,
   "metadata": {},
   "outputs": [
    {
     "name": "stdout",
     "output_type": "stream",
     "text": [
      "Training Data shape: (38, 5)\n",
      "Testing Data shape: (7, 5)\n"
     ]
    }
   ],
   "source": [
    "# Splitting the data into training and testing or validation\n",
    "training_data = delivery_data.iloc[:38, :]\n",
    "testing_data = delivery_data.iloc[38:, :]\n",
    "\n",
    "# Printing the Training data and Testing Data\n",
    "print(f\"Training Data shape: {training_data.shape}\"); print(f\"Testing Data shape: {testing_data.shape}\")"
   ]
  },
  {
   "cell_type": "code",
   "execution_count": 7,
   "metadata": {},
   "outputs": [
    {
     "data": {
      "text/html": [
       "<div>\n",
       "<style scoped>\n",
       "    .dataframe tbody tr th:only-of-type {\n",
       "        vertical-align: middle;\n",
       "    }\n",
       "\n",
       "    .dataframe tbody tr th {\n",
       "        vertical-align: top;\n",
       "    }\n",
       "\n",
       "    .dataframe thead th {\n",
       "        text-align: right;\n",
       "    }\n",
       "</style>\n",
       "<table border=\"1\" class=\"dataframe\">\n",
       "  <thead>\n",
       "    <tr style=\"text-align: right;\">\n",
       "      <th></th>\n",
       "      <th>bad_weather</th>\n",
       "      <th>rush_hour</th>\n",
       "      <th>mile_distance</th>\n",
       "      <th>urban_address</th>\n",
       "      <th>late</th>\n",
       "    </tr>\n",
       "  </thead>\n",
       "  <tbody>\n",
       "    <tr>\n",
       "      <th>0</th>\n",
       "      <td>0.0</td>\n",
       "      <td>1.0</td>\n",
       "      <td>5.0</td>\n",
       "      <td>1.0</td>\n",
       "      <td>0.0</td>\n",
       "    </tr>\n",
       "    <tr>\n",
       "      <th>1</th>\n",
       "      <td>1.0</td>\n",
       "      <td>0.0</td>\n",
       "      <td>7.0</td>\n",
       "      <td>0.0</td>\n",
       "      <td>1.0</td>\n",
       "    </tr>\n",
       "    <tr>\n",
       "      <th>2</th>\n",
       "      <td>0.0</td>\n",
       "      <td>1.0</td>\n",
       "      <td>2.0</td>\n",
       "      <td>1.0</td>\n",
       "      <td>0.0</td>\n",
       "    </tr>\n",
       "    <tr>\n",
       "      <th>3</th>\n",
       "      <td>1.0</td>\n",
       "      <td>1.0</td>\n",
       "      <td>4.2</td>\n",
       "      <td>1.0</td>\n",
       "      <td>0.0</td>\n",
       "    </tr>\n",
       "    <tr>\n",
       "      <th>4</th>\n",
       "      <td>0.0</td>\n",
       "      <td>0.0</td>\n",
       "      <td>7.8</td>\n",
       "      <td>0.0</td>\n",
       "      <td>1.0</td>\n",
       "    </tr>\n",
       "  </tbody>\n",
       "</table>\n",
       "</div>"
      ],
      "text/plain": [
       "   bad_weather  rush_hour  mile_distance  urban_address  late\n",
       "0          0.0        1.0            5.0            1.0   0.0\n",
       "1          1.0        0.0            7.0            0.0   1.0\n",
       "2          0.0        1.0            2.0            1.0   0.0\n",
       "3          1.0        1.0            4.2            1.0   0.0\n",
       "4          0.0        0.0            7.8            0.0   1.0"
      ]
     },
     "execution_count": 7,
     "metadata": {},
     "output_type": "execute_result"
    }
   ],
   "source": [
    "# Printing the Training Data.\n",
    "training_data.head()"
   ]
  },
  {
   "cell_type": "markdown",
   "metadata": {},
   "source": [
    "**Selecting Features**\n",
    "* Selecting the Features to build the Classification model. Splitting the dataframe into input and output of Machine Learning model."
   ]
  },
  {
   "cell_type": "code",
   "execution_count": 8,
   "metadata": {},
   "outputs": [],
   "source": [
    "# Selecting the input and output features of Training Data.\n",
    "X_train = training_data[[\"bad_weather\", \"rush_hour\", \"mile_distance\", \"urban_address\"]].values\n",
    "y_train = training_data[\"late\"].tolist()\n",
    "\n",
    "# Selecting the input and output features of Testing Data\n",
    "X_test = testing_data[[\"bad_weather\", \"rush_hour\", \"mile_distance\", \"urban_address\"]].values\n",
    "y_test = testing_data[\"late\"].tolist()"
   ]
  },
  {
   "cell_type": "markdown",
   "metadata": {},
   "source": [
    "**Preparing the Model**\n",
    "* Preparing the Model using KNeighborsClassifier. KNN considers closet data records to make the effective decision."
   ]
  },
  {
   "cell_type": "code",
   "execution_count": 9,
   "metadata": {},
   "outputs": [
    {
     "data": {
      "text/plain": [
       "KNeighborsClassifier(n_neighbors=1)"
      ]
     },
     "execution_count": 9,
     "metadata": {},
     "output_type": "execute_result"
    }
   ],
   "source": [
    "# Preparin KNN Classifier using n_neighbors = 1\n",
    "classifier = KNeighborsClassifier(n_neighbors = 1)\n",
    "\n",
    "# Fitting the Model in our Training Data\n",
    "classifier.fit(X_train, y_train)"
   ]
  },
  {
   "cell_type": "markdown",
   "metadata": {},
   "source": [
    "**Model Evaluation**\n",
    "* Checking the accuracy on Training Data"
   ]
  },
  {
   "cell_type": "code",
   "execution_count": 10,
   "metadata": {},
   "outputs": [
    {
     "name": "stdout",
     "output_type": "stream",
     "text": [
      "Model evaluation on Training Data:\n",
      " [[23  0]\n",
      " [ 0 15]]\n",
      "Classification Report:\n",
      "               precision    recall  f1-score   support\n",
      "\n",
      "         0.0       1.00      1.00      1.00        23\n",
      "         1.0       1.00      1.00      1.00        15\n",
      "\n",
      "    accuracy                           1.00        38\n",
      "   macro avg       1.00      1.00      1.00        38\n",
      "weighted avg       1.00      1.00      1.00        38\n",
      "\n",
      "Training accuracy:\n",
      " 1.0\n"
     ]
    }
   ],
   "source": [
    "# Using the fitted model to make predictions on the same data\n",
    "train_predict = classifier.predict(X_train)\n",
    "\n",
    "print(f\"Model evaluation on Training Data:\\n {confusion_matrix(y_train, train_predict)}\")\n",
    "print(f\"Classification Report:\\n {classification_report(y_train, train_predict)}\")\n",
    "print(f\"Training accuracy:\\n {accuracy_score(y_train, train_predict)}\")"
   ]
  },
  {
   "cell_type": "markdown",
   "metadata": {},
   "source": [
    "* Checking the accuracy score on Testing Data"
   ]
  },
  {
   "cell_type": "code",
   "execution_count": 11,
   "metadata": {},
   "outputs": [
    {
     "name": "stdout",
     "output_type": "stream",
     "text": [
      "Model evaluation on Testing Data:\n",
      " [[3 1]\n",
      " [1 2]]\n",
      "Classification Report:\n",
      "               precision    recall  f1-score   support\n",
      "\n",
      "         0.0       0.75      0.75      0.75         4\n",
      "         1.0       0.67      0.67      0.67         3\n",
      "\n",
      "    accuracy                           0.71         7\n",
      "   macro avg       0.71      0.71      0.71         7\n",
      "weighted avg       0.71      0.71      0.71         7\n",
      "\n",
      "Testing accuracy:\n",
      " 0.7142857142857143\n"
     ]
    }
   ],
   "source": [
    "# Using the fitted model to make predictions on testing data\n",
    "test_predict = classifier.predict(X_test)\n",
    "\n",
    "print(f\"Model evaluation on Testing Data:\\n {confusion_matrix(y_test, test_predict)}\")\n",
    "print(f\"Classification Report:\\n {classification_report(y_test, test_predict)}\")\n",
    "print(f\"Testing accuracy:\\n {accuracy_score(y_test, test_predict)}\")"
   ]
  },
  {
   "cell_type": "markdown",
   "metadata": {},
   "source": [
    "**Conclusion and Insights**\n",
    "* The model only achieved 71% accuracy on the data that the model hasn't seen before. But the model achieved the accuracy of 100% on the data in which the model was trained. This is the problem of **Overfitting** which means that our model over-learned and over-memorized the training data and failed on the data that it has never seen before. This is because I have chosen the K parameter as 1.\n",
    "* So, let's further optimize our model."
   ]
  },
  {
   "cell_type": "code",
   "execution_count": 12,
   "metadata": {},
   "outputs": [],
   "source": [
    "# Splitting our Training Data into 80% training and 20% validation\n",
    "train_data = training_data.iloc[:30, :]\n",
    "valid_data = training_data.iloc[30:, :]\n",
    "\n",
    "# Selecting the features for input data and target for preparing the Model\n",
    "X_train = train_data[[\"bad_weather\", \"rush_hour\", \"mile_distance\", \"urban_address\"]].values\n",
    "y_train = train_data[\"late\"].tolist()\n",
    "\n",
    "X_valid = valid_data[[\"bad_weather\", \"rush_hour\", \"mile_distance\", \"urban_address\"]].values\n",
    "y_valid = valid_data[\"late\"].tolist()"
   ]
  },
  {
   "cell_type": "markdown",
   "metadata": {},
   "source": [
    "**Using Different values of K**\n",
    "* Using the different values of K parameter in KNeighborsClassifier and predicting the accuracy of model on validation data."
   ]
  },
  {
   "cell_type": "code",
   "execution_count": 13,
   "metadata": {},
   "outputs": [
    {
     "name": "stdout",
     "output_type": "stream",
     "text": [
      "K=1, Accuracy is 0.875\n",
      "K=2, Accuracy is 0.875\n",
      "K=3, Accuracy is 1.0\n",
      "K=4, Accuracy is 1.0\n",
      "K=5, Accuracy is 1.0\n",
      "K=6, Accuracy is 0.875\n"
     ]
    }
   ],
   "source": [
    "# Assigning the values of K\n",
    "K_values = [1, 2, 3, 4, 5, 6]\n",
    "\n",
    "for K in K_values:\n",
    "    classifier = KNeighborsClassifier(n_neighbors = K)\n",
    "    classifier.fit(X_train, y_train)\n",
    "    val_predict = classifier.predict(X_valid)\n",
    "    print(f\"K={K}, Accuracy is {accuracy_score(y_valid, val_predict)}\")"
   ]
  },
  {
   "cell_type": "markdown",
   "metadata": {},
   "source": [
    "* Looking at the accuracy result obtained above, K=3, 4, 5 are optimal. I will choose K=4 and observe the accuracy of the model in Testing Data."
   ]
  },
  {
   "cell_type": "code",
   "execution_count": 14,
   "metadata": {},
   "outputs": [
    {
     "name": "stdout",
     "output_type": "stream",
     "text": [
      "Accuracy score is 0.8571428571428571\n"
     ]
    }
   ],
   "source": [
    "# Preparing the model with K = 4\n",
    "classifier = KNeighborsClassifier(n_neighbors = 4)\n",
    "classifier.fit(X_train, y_train)\n",
    "predictions = classifier.predict(X_test)\n",
    "print(f\"Accuracy score is {accuracy_score(y_test, predictions)}\")"
   ]
  },
  {
   "cell_type": "markdown",
   "metadata": {},
   "source": [
    "Hence,the accuracy of the model is improved from 71% to 85% with small optimization known as reducing generalization gap."
   ]
  }
 ],
 "metadata": {
  "kernelspec": {
   "display_name": "Python 3",
   "language": "python",
   "name": "python3"
  },
  "language_info": {
   "codemirror_mode": {
    "name": "ipython",
    "version": 3
   },
   "file_extension": ".py",
   "mimetype": "text/x-python",
   "name": "python",
   "nbconvert_exporter": "python",
   "pygments_lexer": "ipython3",
   "version": "3.7.7"
  }
 },
 "nbformat": 4,
 "nbformat_minor": 4
}
