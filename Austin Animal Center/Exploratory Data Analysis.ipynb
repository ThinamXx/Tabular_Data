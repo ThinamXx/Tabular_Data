{
 "cells": [
  {
   "cell_type": "markdown",
   "metadata": {},
   "source": [
    "## **Exploratory Data Analysis (EDA)**\n",
    "* In this Notebook, I will perform Exploratory Data Analysis (EDA), performing initial data investigations to discover patterns, spot anomalies and gain insights for further preparation of Machine Learning Model."
   ]
  },
  {
   "cell_type": "markdown",
   "metadata": {},
   "source": [
    "**Initialization**\n",
    "* I use these 3 lines of code on top of my each notebook because it won't cause any trouble while reloading or reworking on the Project or Problem. And the third line of code helps to make visualization within the Notebook."
   ]
  },
  {
   "cell_type": "code",
   "execution_count": 1,
   "metadata": {},
   "outputs": [],
   "source": [
    "# Initialization\n",
    "%reload_ext autoreload\n",
    "%autoreload 2\n",
    "%matplotlib inline"
   ]
  },
  {
   "cell_type": "markdown",
   "metadata": {},
   "source": [
    "**Downloading the Dependencies**"
   ]
  },
  {
   "cell_type": "code",
   "execution_count": 2,
   "metadata": {},
   "outputs": [],
   "source": [
    "# Downloading all necessary libraries and Dependencies\n",
    "import pandas as pd\n",
    "import matplotlib.pyplot as plt\n",
    "import seaborn as sns\n",
    "import numpy as np\n",
    "\n",
    "from sklearn.impute import SimpleImputer"
   ]
  },
  {
   "cell_type": "markdown",
   "metadata": {},
   "source": [
    "**Getting the Data**\n",
    "* I have manually downloaded the Data. The act of loading and reading the Data might be different in different platforms."
   ]
  },
  {
   "cell_type": "code",
   "execution_count": 3,
   "metadata": {},
   "outputs": [
    {
     "data": {
      "text/html": [
       "<div>\n",
       "<style scoped>\n",
       "    .dataframe tbody tr th:only-of-type {\n",
       "        vertical-align: middle;\n",
       "    }\n",
       "\n",
       "    .dataframe tbody tr th {\n",
       "        vertical-align: top;\n",
       "    }\n",
       "\n",
       "    .dataframe thead th {\n",
       "        text-align: right;\n",
       "    }\n",
       "</style>\n",
       "<table border=\"1\" class=\"dataframe\">\n",
       "  <thead>\n",
       "    <tr style=\"text-align: right;\">\n",
       "      <th></th>\n",
       "      <th>Pet ID</th>\n",
       "      <th>Outcome Type</th>\n",
       "      <th>Sex upon Outcome</th>\n",
       "      <th>Name</th>\n",
       "      <th>Found Location</th>\n",
       "      <th>Intake Type</th>\n",
       "      <th>Intake Condition</th>\n",
       "      <th>Pet Type</th>\n",
       "      <th>Sex upon Intake</th>\n",
       "      <th>Breed</th>\n",
       "      <th>Color</th>\n",
       "      <th>Age upon Intake Days</th>\n",
       "      <th>Age upon Outcome Days</th>\n",
       "    </tr>\n",
       "  </thead>\n",
       "  <tbody>\n",
       "    <tr>\n",
       "      <th>0</th>\n",
       "      <td>A794011</td>\n",
       "      <td>1.0</td>\n",
       "      <td>Neutered Male</td>\n",
       "      <td>Chunk</td>\n",
       "      <td>Austin (TX)</td>\n",
       "      <td>Owner Surrender</td>\n",
       "      <td>Normal</td>\n",
       "      <td>Cat</td>\n",
       "      <td>Neutered Male</td>\n",
       "      <td>Domestic Shorthair Mix</td>\n",
       "      <td>Brown Tabby/White</td>\n",
       "      <td>730</td>\n",
       "      <td>730</td>\n",
       "    </tr>\n",
       "    <tr>\n",
       "      <th>1</th>\n",
       "      <td>A776359</td>\n",
       "      <td>1.0</td>\n",
       "      <td>Neutered Male</td>\n",
       "      <td>Gizmo</td>\n",
       "      <td>7201 Levander Loop in Austin (TX)</td>\n",
       "      <td>Stray</td>\n",
       "      <td>Normal</td>\n",
       "      <td>Dog</td>\n",
       "      <td>Intact Male</td>\n",
       "      <td>Chihuahua Shorthair Mix</td>\n",
       "      <td>White/Brown</td>\n",
       "      <td>365</td>\n",
       "      <td>365</td>\n",
       "    </tr>\n",
       "    <tr>\n",
       "      <th>2</th>\n",
       "      <td>A674754</td>\n",
       "      <td>0.0</td>\n",
       "      <td>Intact Male</td>\n",
       "      <td>NaN</td>\n",
       "      <td>12034 Research in Austin (TX)</td>\n",
       "      <td>Stray</td>\n",
       "      <td>Nursing</td>\n",
       "      <td>Cat</td>\n",
       "      <td>Intact Male</td>\n",
       "      <td>Domestic Shorthair Mix</td>\n",
       "      <td>Orange Tabby</td>\n",
       "      <td>6</td>\n",
       "      <td>6</td>\n",
       "    </tr>\n",
       "    <tr>\n",
       "      <th>3</th>\n",
       "      <td>A689724</td>\n",
       "      <td>1.0</td>\n",
       "      <td>Neutered Male</td>\n",
       "      <td>*Donatello</td>\n",
       "      <td>2300 Waterway Bnd in Austin (TX)</td>\n",
       "      <td>Stray</td>\n",
       "      <td>Normal</td>\n",
       "      <td>Cat</td>\n",
       "      <td>Intact Male</td>\n",
       "      <td>Domestic Shorthair Mix</td>\n",
       "      <td>Black</td>\n",
       "      <td>60</td>\n",
       "      <td>60</td>\n",
       "    </tr>\n",
       "    <tr>\n",
       "      <th>4</th>\n",
       "      <td>A680969</td>\n",
       "      <td>1.0</td>\n",
       "      <td>Neutered Male</td>\n",
       "      <td>*Zeus</td>\n",
       "      <td>4701 Staggerbrush Rd in Austin (TX)</td>\n",
       "      <td>Stray</td>\n",
       "      <td>Nursing</td>\n",
       "      <td>Cat</td>\n",
       "      <td>Intact Male</td>\n",
       "      <td>Domestic Shorthair Mix</td>\n",
       "      <td>White/Orange Tabby</td>\n",
       "      <td>7</td>\n",
       "      <td>60</td>\n",
       "    </tr>\n",
       "    <tr>\n",
       "      <th>5</th>\n",
       "      <td>A684617</td>\n",
       "      <td>0.0</td>\n",
       "      <td>Intact Female</td>\n",
       "      <td>NaN</td>\n",
       "      <td>10015 Lake Creek Pkwy in Austin (TX)</td>\n",
       "      <td>Stray</td>\n",
       "      <td>Normal</td>\n",
       "      <td>Cat</td>\n",
       "      <td>Intact Female</td>\n",
       "      <td>Domestic Shorthair Mix</td>\n",
       "      <td>Black</td>\n",
       "      <td>730</td>\n",
       "      <td>730</td>\n",
       "    </tr>\n",
       "    <tr>\n",
       "      <th>6</th>\n",
       "      <td>A742354</td>\n",
       "      <td>1.0</td>\n",
       "      <td>Neutered Male</td>\n",
       "      <td>Artemis</td>\n",
       "      <td>9200 N Plaza Dr in Austin (TX)</td>\n",
       "      <td>Stray</td>\n",
       "      <td>Normal</td>\n",
       "      <td>Cat</td>\n",
       "      <td>Neutered Male</td>\n",
       "      <td>Domestic Shorthair Mix</td>\n",
       "      <td>Blue/White</td>\n",
       "      <td>2555</td>\n",
       "      <td>2555</td>\n",
       "    </tr>\n",
       "    <tr>\n",
       "      <th>7</th>\n",
       "      <td>A681036</td>\n",
       "      <td>0.0</td>\n",
       "      <td>Intact Male</td>\n",
       "      <td>NaN</td>\n",
       "      <td>Hill Croft Drive &amp; Loyola Lane in Austin (TX)</td>\n",
       "      <td>Stray</td>\n",
       "      <td>Normal</td>\n",
       "      <td>Cat</td>\n",
       "      <td>Intact Male</td>\n",
       "      <td>Domestic Shorthair Mix</td>\n",
       "      <td>Brown Tabby</td>\n",
       "      <td>2</td>\n",
       "      <td>2</td>\n",
       "    </tr>\n",
       "    <tr>\n",
       "      <th>8</th>\n",
       "      <td>A803149</td>\n",
       "      <td>0.0</td>\n",
       "      <td>Intact Male</td>\n",
       "      <td>*Birch</td>\n",
       "      <td>2607 Garrettson Drive in Austin (TX)</td>\n",
       "      <td>Stray</td>\n",
       "      <td>Normal</td>\n",
       "      <td>Cat</td>\n",
       "      <td>Intact Male</td>\n",
       "      <td>Domestic Shorthair</td>\n",
       "      <td>Brown Tabby</td>\n",
       "      <td>14</td>\n",
       "      <td>21</td>\n",
       "    </tr>\n",
       "    <tr>\n",
       "      <th>9</th>\n",
       "      <td>A773792</td>\n",
       "      <td>0.0</td>\n",
       "      <td>Intact Male</td>\n",
       "      <td>NaN</td>\n",
       "      <td>8711 Johnny Morris in Austin (TX)</td>\n",
       "      <td>Stray</td>\n",
       "      <td>Normal</td>\n",
       "      <td>Cat</td>\n",
       "      <td>Intact Male</td>\n",
       "      <td>Domestic Shorthair Mix</td>\n",
       "      <td>Orange Tabby</td>\n",
       "      <td>28</td>\n",
       "      <td>28</td>\n",
       "    </tr>\n",
       "  </tbody>\n",
       "</table>\n",
       "</div>"
      ],
      "text/plain": [
       "    Pet ID  Outcome Type Sex upon Outcome        Name  \\\n",
       "0  A794011           1.0    Neutered Male       Chunk   \n",
       "1  A776359           1.0    Neutered Male       Gizmo   \n",
       "2  A674754           0.0      Intact Male         NaN   \n",
       "3  A689724           1.0    Neutered Male  *Donatello   \n",
       "4  A680969           1.0    Neutered Male       *Zeus   \n",
       "5  A684617           0.0    Intact Female         NaN   \n",
       "6  A742354           1.0    Neutered Male     Artemis   \n",
       "7  A681036           0.0      Intact Male         NaN   \n",
       "8  A803149           0.0      Intact Male      *Birch   \n",
       "9  A773792           0.0      Intact Male         NaN   \n",
       "\n",
       "                                  Found Location      Intake Type  \\\n",
       "0                                    Austin (TX)  Owner Surrender   \n",
       "1              7201 Levander Loop in Austin (TX)            Stray   \n",
       "2                  12034 Research in Austin (TX)            Stray   \n",
       "3               2300 Waterway Bnd in Austin (TX)            Stray   \n",
       "4            4701 Staggerbrush Rd in Austin (TX)            Stray   \n",
       "5           10015 Lake Creek Pkwy in Austin (TX)            Stray   \n",
       "6                 9200 N Plaza Dr in Austin (TX)            Stray   \n",
       "7  Hill Croft Drive & Loyola Lane in Austin (TX)            Stray   \n",
       "8           2607 Garrettson Drive in Austin (TX)            Stray   \n",
       "9              8711 Johnny Morris in Austin (TX)            Stray   \n",
       "\n",
       "  Intake Condition Pet Type Sex upon Intake                    Breed  \\\n",
       "0           Normal      Cat   Neutered Male   Domestic Shorthair Mix   \n",
       "1           Normal      Dog     Intact Male  Chihuahua Shorthair Mix   \n",
       "2          Nursing      Cat     Intact Male   Domestic Shorthair Mix   \n",
       "3           Normal      Cat     Intact Male   Domestic Shorthair Mix   \n",
       "4          Nursing      Cat     Intact Male   Domestic Shorthair Mix   \n",
       "5           Normal      Cat   Intact Female   Domestic Shorthair Mix   \n",
       "6           Normal      Cat   Neutered Male   Domestic Shorthair Mix   \n",
       "7           Normal      Cat     Intact Male   Domestic Shorthair Mix   \n",
       "8           Normal      Cat     Intact Male       Domestic Shorthair   \n",
       "9           Normal      Cat     Intact Male   Domestic Shorthair Mix   \n",
       "\n",
       "                Color  Age upon Intake Days  Age upon Outcome Days  \n",
       "0   Brown Tabby/White                   730                    730  \n",
       "1         White/Brown                   365                    365  \n",
       "2        Orange Tabby                     6                      6  \n",
       "3               Black                    60                     60  \n",
       "4  White/Orange Tabby                     7                     60  \n",
       "5               Black                   730                    730  \n",
       "6          Blue/White                  2555                   2555  \n",
       "7         Brown Tabby                     2                      2  \n",
       "8         Brown Tabby                    14                     21  \n",
       "9        Orange Tabby                    28                     28  "
      ]
     },
     "execution_count": 3,
     "metadata": {},
     "output_type": "execute_result"
    }
   ],
   "source": [
    "# Loading the Data\n",
    "# Creating DataFrame from the csv file\n",
    "PATH = r\"C:\\\\Users\\\\DELL\\\\Downloads\\\\EDA\\\\Data.csv\"\n",
    "df = pd.read_csv(PATH)\n",
    "\n",
    "# Observing the DataFrame\n",
    "df.head(10)"
   ]
  },
  {
   "cell_type": "markdown",
   "metadata": {},
   "source": [
    "**Statistical Exploration**"
   ]
  },
  {
   "cell_type": "code",
   "execution_count": 4,
   "metadata": {},
   "outputs": [
    {
     "name": "stdout",
     "output_type": "stream",
     "text": [
      "The shape of DataFrame is (95485, 13)\n"
     ]
    }
   ],
   "source": [
    "# Observing the rows and columns of DataFrame or the shape of DataFrame\n",
    "print(f\"The shape of DataFrame is {df.shape}\")"
   ]
  },
  {
   "cell_type": "code",
   "execution_count": 5,
   "metadata": {},
   "outputs": [
    {
     "name": "stdout",
     "output_type": "stream",
     "text": [
      "<class 'pandas.core.frame.DataFrame'>\n",
      "RangeIndex: 95485 entries, 0 to 95484\n",
      "Data columns (total 13 columns):\n",
      " #   Column                 Non-Null Count  Dtype  \n",
      "---  ------                 --------------  -----  \n",
      " 0   Pet ID                 95485 non-null  object \n",
      " 1   Outcome Type           95485 non-null  float64\n",
      " 2   Sex upon Outcome       95484 non-null  object \n",
      " 3   Name                   59138 non-null  object \n",
      " 4   Found Location         95485 non-null  object \n",
      " 5   Intake Type            95485 non-null  object \n",
      " 6   Intake Condition       95485 non-null  object \n",
      " 7   Pet Type               95485 non-null  object \n",
      " 8   Sex upon Intake        95484 non-null  object \n",
      " 9   Breed                  95485 non-null  object \n",
      " 10  Color                  95485 non-null  object \n",
      " 11  Age upon Intake Days   95485 non-null  int64  \n",
      " 12  Age upon Outcome Days  95485 non-null  int64  \n",
      "dtypes: float64(1), int64(2), object(10)\n",
      "memory usage: 9.5+ MB\n"
     ]
    }
   ],
   "source": [
    "# Observing the datatypes and null values in each columns\n",
    "df.info()"
   ]
  },
  {
   "cell_type": "code",
   "execution_count": 6,
   "metadata": {},
   "outputs": [
    {
     "data": {
      "text/html": [
       "<div>\n",
       "<style scoped>\n",
       "    .dataframe tbody tr th:only-of-type {\n",
       "        vertical-align: middle;\n",
       "    }\n",
       "\n",
       "    .dataframe tbody tr th {\n",
       "        vertical-align: top;\n",
       "    }\n",
       "\n",
       "    .dataframe thead th {\n",
       "        text-align: right;\n",
       "    }\n",
       "</style>\n",
       "<table border=\"1\" class=\"dataframe\">\n",
       "  <thead>\n",
       "    <tr style=\"text-align: right;\">\n",
       "      <th></th>\n",
       "      <th>Outcome Type</th>\n",
       "      <th>Age upon Intake Days</th>\n",
       "      <th>Age upon Outcome Days</th>\n",
       "    </tr>\n",
       "  </thead>\n",
       "  <tbody>\n",
       "    <tr>\n",
       "      <th>count</th>\n",
       "      <td>95485.000000</td>\n",
       "      <td>95485.000000</td>\n",
       "      <td>95485.000000</td>\n",
       "    </tr>\n",
       "    <tr>\n",
       "      <th>mean</th>\n",
       "      <td>0.564005</td>\n",
       "      <td>703.436959</td>\n",
       "      <td>717.757313</td>\n",
       "    </tr>\n",
       "    <tr>\n",
       "      <th>std</th>\n",
       "      <td>0.495889</td>\n",
       "      <td>1052.252197</td>\n",
       "      <td>1055.023160</td>\n",
       "    </tr>\n",
       "    <tr>\n",
       "      <th>min</th>\n",
       "      <td>0.000000</td>\n",
       "      <td>0.000000</td>\n",
       "      <td>0.000000</td>\n",
       "    </tr>\n",
       "    <tr>\n",
       "      <th>25%</th>\n",
       "      <td>0.000000</td>\n",
       "      <td>30.000000</td>\n",
       "      <td>60.000000</td>\n",
       "    </tr>\n",
       "    <tr>\n",
       "      <th>50%</th>\n",
       "      <td>1.000000</td>\n",
       "      <td>365.000000</td>\n",
       "      <td>365.000000</td>\n",
       "    </tr>\n",
       "    <tr>\n",
       "      <th>75%</th>\n",
       "      <td>1.000000</td>\n",
       "      <td>730.000000</td>\n",
       "      <td>730.000000</td>\n",
       "    </tr>\n",
       "    <tr>\n",
       "      <th>max</th>\n",
       "      <td>1.000000</td>\n",
       "      <td>9125.000000</td>\n",
       "      <td>9125.000000</td>\n",
       "    </tr>\n",
       "  </tbody>\n",
       "</table>\n",
       "</div>"
      ],
      "text/plain": [
       "       Outcome Type  Age upon Intake Days  Age upon Outcome Days\n",
       "count  95485.000000          95485.000000           95485.000000\n",
       "mean       0.564005            703.436959             717.757313\n",
       "std        0.495889           1052.252197            1055.023160\n",
       "min        0.000000              0.000000               0.000000\n",
       "25%        0.000000             30.000000              60.000000\n",
       "50%        1.000000            365.000000             365.000000\n",
       "75%        1.000000            730.000000             730.000000\n",
       "max        1.000000           9125.000000            9125.000000"
      ]
     },
     "execution_count": 6,
     "metadata": {},
     "output_type": "execute_result"
    }
   ],
   "source": [
    "# Printing the basic statistics for the Numerical columns\n",
    "df.describe()"
   ]
  },
  {
   "cell_type": "code",
   "execution_count": 7,
   "metadata": {},
   "outputs": [
    {
     "data": {
      "text/plain": [
       "Index(['Pet ID', 'Outcome Type', 'Sex upon Outcome', 'Name', 'Found Location',\n",
       "       'Intake Type', 'Intake Condition', 'Pet Type', 'Sex upon Intake',\n",
       "       'Breed', 'Color', 'Age upon Intake Days', 'Age upon Outcome Days'],\n",
       "      dtype='object')"
      ]
     },
     "execution_count": 7,
     "metadata": {},
     "output_type": "execute_result"
    }
   ],
   "source": [
    "# Printing all the columns of the DataFrame\n",
    "df.columns"
   ]
  },
  {
   "cell_type": "markdown",
   "metadata": {},
   "source": [
    "**Separating the Features and Target columns**\n"
   ]
  },
  {
   "cell_type": "code",
   "execution_count": 8,
   "metadata": {},
   "outputs": [
    {
     "name": "stdout",
     "output_type": "stream",
     "text": [
      "Model Features: Index(['Pet ID', 'Sex upon Outcome', 'Name', 'Found Location', 'Intake Type',\n",
      "       'Intake Condition', 'Pet Type', 'Sex upon Intake', 'Breed', 'Color',\n",
      "       'Age upon Intake Days', 'Age upon Outcome Days'],\n",
      "      dtype='object')\n",
      "Model Target: Outcome Type\n"
     ]
    }
   ],
   "source": [
    "# Separating the features and target columns\n",
    "features = df.columns.drop(\"Outcome Type\")\n",
    "target = \"Outcome Type\"\n",
    "\n",
    "print(f\"Model Features: {features}\")\n",
    "print(f\"Model Target: {target}\")"
   ]
  },
  {
   "cell_type": "markdown",
   "metadata": {},
   "source": [
    "**Features Processing**\n",
    "* I will further explore the features of the DataFrame to separate whether the columns is Categorical or Numerical. Note that some integer valued features could actually be Categorical features and some Categorical features might be text features."
   ]
  },
  {
   "cell_type": "code",
   "execution_count": 9,
   "metadata": {},
   "outputs": [
    {
     "name": "stdout",
     "output_type": "stream",
     "text": [
      "Numerical Features: Index(['Age upon Intake Days', 'Age upon Outcome Days'], dtype='object')\n",
      " \n",
      "Categorical Features: Index(['Pet ID', 'Sex upon Outcome', 'Name', 'Found Location', 'Intake Type',\n",
      "       'Intake Condition', 'Pet Type', 'Sex upon Intake', 'Breed', 'Color'],\n",
      "      dtype='object')\n"
     ]
    }
   ],
   "source": [
    "# Selecting the Numerical Features\n",
    "numerical_features = df[features].select_dtypes(include = np.number).columns\n",
    "print(f\"Numerical Features: {numerical_features}\")\n",
    "\n",
    "print(\" \")\n",
    "\n",
    "# Selecting the Categorical Features\n",
    "categorical_features = df[features].select_dtypes(include = \"object\").columns\n",
    "print(f\"Categorical Features: {categorical_features}\")"
   ]
  },
  {
   "cell_type": "markdown",
   "metadata": {},
   "source": [
    "## **Plots:**\n",
    "* I will observe the Data using plots. These plots ignores the missing values. Dealing with the missing values will be observed later in the Notebook."
   ]
  },
  {
   "cell_type": "markdown",
   "metadata": {},
   "source": [
    "**Bar Plots:**\n",
    "* Bar Plots show the plots of Categorical data. The **value_counts** function yields the counts of each unique value. It is very useful while dealing with categorical variables."
   ]
  },
  {
   "cell_type": "code",
   "execution_count": 10,
   "metadata": {},
   "outputs": [
    {
     "data": {
      "text/plain": [
       "1.0    53854\n",
       "0.0    41631\n",
       "Name: Outcome Type, dtype: int64"
      ]
     },
     "execution_count": 10,
     "metadata": {},
     "output_type": "execute_result"
    }
   ],
   "source": [
    "# Looking at the distribution of Model Target\n",
    "df[target].value_counts()"
   ]
  },
  {
   "cell_type": "markdown",
   "metadata": {},
   "source": [
    "* The **plot.bar()** function along with **value_counts()** function makes the bar plots of the values."
   ]
  },
  {
   "cell_type": "code",
   "execution_count": 12,
   "metadata": {},
   "outputs": [
    {
     "data": {
      "image/png": "[encoded data removed]",
      "text/plain": [
       "<Figure size 432x288 with 1 Axes>"
      ]
     },
     "metadata": {
      "needs_background": "light"
     },
     "output_type": "display_data"
    }
   ],
   "source": [
    "# Plotting the barplot of the distribution of the Model's Target.\n",
    "df[target].value_counts().plot.bar()\n",
    "plt.legend()\n",
    "plt.show()"
   ]
  },
  {
   "cell_type": "markdown",
   "metadata": {},
   "source": [
    "**Exploring the Categorical Features**\n",
    "* Exploring the unique values per features in Categorical Features."
   ]
  },
  {
   "cell_type": "code",
   "execution_count": 13,
   "metadata": {},
   "outputs": [
    {
     "name": "stdout",
     "output_type": "stream",
     "text": [
      "A734537    1\n",
      "A693912    1\n",
      "A728380    1\n",
      "A705747    1\n",
      "A675467    1\n",
      "          ..\n",
      "A758426    1\n",
      "A679930    1\n",
      "A767412    1\n",
      "A733981    1\n",
      "A713339    1\n",
      "Name: Pet ID, Length: 95485, dtype: int64\n",
      "Neutered Male    30244\n",
      "Spayed Female    28145\n",
      "Intact Female    13724\n",
      "Intact Male      13646\n",
      "Unknown           9725\n",
      "Name: Sex upon Outcome, dtype: int64\n",
      "Bella       338\n",
      "Luna        313\n",
      "Max         311\n",
      "Daisy       239\n",
      "Lucy        223\n",
      "           ... \n",
      "*Anchovy      1\n",
      "*Marina       1\n",
      "Polito        1\n",
      "Nippy         1\n",
      "*Camelot      1\n",
      "Name: Name, Length: 17468, dtype: int64\n",
      "Austin (TX)                                       14833\n",
      "Travis (TX)                                        1402\n",
      "7201 Levander Loop in Austin (TX)                   644\n",
      "Outside Jurisdiction                                607\n",
      "Del Valle (TX)                                      426\n",
      "                                                  ...  \n",
      "Zilker Park Barton Springs Road in Austin (TX)        1\n",
      "11805 Oak Haven in Austin (TX)                        1\n",
      "14650 Merrilltown Drive in Austin (TX)                1\n",
      "St Merryn Street in Austin (TX)                       1\n",
      "Frate Barker/ Manchaca in Austin (TX)                 1\n",
      "Name: Found Location, Length: 43951, dtype: int64\n",
      "Stray                 70203\n",
      "Owner Surrender       15146\n",
      "Public Assist          5236\n",
      "Wildlife               4554\n",
      "Euthanasia Request      235\n",
      "Abandoned               111\n",
      "Name: Intake Type, dtype: int64\n",
      "Normal      81912\n",
      "Injured      5386\n",
      "Sick         4291\n",
      "Nursing      3172\n",
      "Aged          352\n",
      "Other         189\n",
      "Feral          97\n",
      "Pregnant       63\n",
      "Medical        21\n",
      "Behavior        2\n",
      "Name: Intake Condition, dtype: int64\n",
      "Dog          48719\n",
      "Cat          40082\n",
      "Other         6115\n",
      "Bird           553\n",
      "Livestock       16\n",
      "Name: Pet Type, dtype: int64\n",
      "Intact Male      33369\n",
      "Intact Female    32515\n",
      "Neutered Male    10521\n",
      "Unknown           9725\n",
      "Spayed Female     9354\n",
      "Name: Sex upon Intake, dtype: int64\n",
      "Domestic Shorthair Mix                 27689\n",
      "Domestic Shorthair                      5076\n",
      "Pit Bull Mix                            5017\n",
      "Chihuahua Shorthair Mix                 4963\n",
      "Labrador Retriever Mix                  4789\n",
      "                                       ...  \n",
      "Shetland Sheepdog/Italian Greyhound        1\n",
      "Pointer/German Shorthair Pointer           1\n",
      "Border Collie/Anatol Shepherd              1\n",
      "Manchester Terrier/Basenji                 1\n",
      "Vulture                                    1\n",
      "Name: Breed, Length: 2395, dtype: int64\n",
      "Black/White                9688\n",
      "Black                      8528\n",
      "Brown Tabby                6077\n",
      "Brown                      4440\n",
      "White                      3312\n",
      "                           ... \n",
      "Brown Brindle/Tricolor        1\n",
      "Gold/Gray                     1\n",
      "Calico Point/Lynx Point       1\n",
      "Fawn/Tricolor                 1\n",
      "Lynx Point/Cream              1\n",
      "Name: Color, Length: 567, dtype: int64\n"
     ]
    }
   ],
   "source": [
    "# Exploring the unique values per features in Categorical Features.\n",
    "for C in categorical_features:\n",
    "    print(df[C].value_counts())"
   ]
  },
  {
   "cell_type": "markdown",
   "metadata": {},
   "source": [
    "* Based on the result obtained above, visualization of every unique features is not useful for some of the Categorical Features. For Simplicity and Speed, I will obtain the Visualization of those features whose unique values is less than 50 using bar plots."
   ]
  },
  {
   "cell_type": "code",
   "execution_count": 14,
   "metadata": {},
   "outputs": [
    {
     "name": "stdout",
     "output_type": "stream",
     "text": [
      "Sex upon Outcome\n"
     ]
    },
    {
     "data": {
      "image/png": "[encoded data removed]",
      "text/plain": [
       "<Figure size 432x288 with 1 Axes>"
      ]
     },
     "metadata": {
      "needs_background": "light"
     },
     "output_type": "display_data"
    },
    {
     "name": "stdout",
     "output_type": "stream",
     "text": [
      "Intake Type\n"
     ]
    },
    {
     "data": {
      "image/png": "[encoded data removed]",
      "text/plain": [
       "<Figure size 432x288 with 1 Axes>"
      ]
     },
     "metadata": {
      "needs_background": "light"
     },
     "output_type": "display_data"
    },
    {
     "name": "stdout",
     "output_type": "stream",
     "text": [
      "Intake Condition\n"
     ]
    },
    {
     "data": {
      "image/png": "[encoded data removed]",
      "text/plain": [
       "<Figure size 432x288 with 1 Axes>"
      ]
     },
     "metadata": {
      "needs_background": "light"
     },
     "output_type": "display_data"
    },
    {
     "name": "stdout",
     "output_type": "stream",
     "text": [
      "Pet Type\n"
     ]
    },
    {
     "data": {
      "image/png": "[encoded data removed]",
      "text/plain": [
       "<Figure size 432x288 with 1 Axes>"
      ]
     },
     "metadata": {
      "needs_background": "light"
     },
     "output_type": "display_data"
    },
    {
     "name": "stdout",
     "output_type": "stream",
     "text": [
      "Sex upon Intake\n"
     ]
    },
    {
     "data": {
      "image/png": "[encoded data removed]",
      "text/plain": [
       "<Figure size 432x288 with 1 Axes>"
      ]
     },
     "metadata": {
      "needs_background": "light"
     },
     "output_type": "display_data"
    }
   ],
   "source": [
    "# Visualizing the Features whose unique values is less than 50.\n",
    "# Plotting the bar plots.\n",
    "for C in categorical_features:\n",
    "    if len(df[C].value_counts()) < 50:\n",
    "        print(C)\n",
    "        df[C].value_counts().plot.bar()\n",
    "        plt.show()"
   ]
  },
  {
   "cell_type": "markdown",
   "metadata": {},
   "source": [
    "### **Histograms**\n",
    "* Histograms show the distribution of numeric data in which data is divide into bins or buckets."
   ]
  },
  {
   "cell_type": "code",
   "execution_count": 16,
   "metadata": {},
   "outputs": [
    {
     "name": "stdout",
     "output_type": "stream",
     "text": [
      "Age upon Intake Days\n"
     ]
    },
    {
     "data": {
      "image/png": "[encoded data removed]",
      "text/plain": [
       "<Figure size 432x288 with 1 Axes>"
      ]
     },
     "metadata": {
      "needs_background": "light"
     },
     "output_type": "display_data"
    },
    {
     "name": "stdout",
     "output_type": "stream",
     "text": [
      "Age upon Outcome Days\n"
     ]
    },
    {
     "data": {
      "image/png": "[encoded data removed]",
      "text/plain": [
       "<Figure size 432x288 with 1 Axes>"
      ]
     },
     "metadata": {
      "needs_background": "light"
     },
     "output_type": "display_data"
    }
   ],
   "source": [
    "# Plotting the distribution of Numeric data\n",
    "for N in numerical_features:\n",
    "    print(N)\n",
    "    df[N].plot.hist(bins = 7)\n",
    "    plt.show()"
   ]
  },
  {
   "cell_type": "markdown",
   "metadata": {},
   "source": [
    "* If, incase of some Histograms, the values are heavily placed in the first bin, the best step is to look for the outliers. Checking the min-max values of those particular features and exploring the value ranges."
   ]
  },
  {
   "cell_type": "code",
   "execution_count": 18,
   "metadata": {},
   "outputs": [
    {
     "name": "stdout",
     "output_type": "stream",
     "text": [
      "Age upon Intake Days\n",
      "Minimum: 0 and Maximum: 9125\n",
      "Age upon Outcome Days\n",
      "Minimum: 0 and Maximum: 9125\n"
     ]
    }
   ],
   "source": [
    "# Exploring the value ranges of the Numerical Features\n",
    "for N in numerical_features:\n",
    "    print(N)\n",
    "    print(f\"Minimum: {df[N].min()} and Maximum: {df[N].max()}\")"
   ]
  },
  {
   "cell_type": "markdown",
   "metadata": {},
   "source": [
    "* With the help of **value_counts()** function, it is possible to increase the bins of the Histogram."
   ]
  },
  {
   "cell_type": "code",
   "execution_count": 20,
   "metadata": {},
   "outputs": [
    {
     "name": "stdout",
     "output_type": "stream",
     "text": [
      "Age upon Intake Days\n",
      "(-9.126, 912.5]     74835\n",
      "(912.5, 1825.0]     10647\n",
      "(1825.0, 2737.5]     3471\n",
      "(2737.5, 3650.0]     3998\n",
      "(3650.0, 4562.5]     1234\n",
      "(4562.5, 5475.0]     1031\n",
      "(5475.0, 6387.5]      183\n",
      "(6387.5, 7300.0]       79\n",
      "(7300.0, 8212.5]        5\n",
      "(8212.5, 9125.0]        2\n",
      "Name: Age upon Intake Days, dtype: int64\n",
      "Age upon Outcome Days\n",
      "(-9.126, 912.5]     74642\n",
      "(912.5, 1825.0]     10699\n",
      "(1825.0, 2737.5]     3465\n",
      "(2737.5, 3650.0]     4080\n",
      "(3650.0, 4562.5]     1263\n",
      "(4562.5, 5475.0]     1061\n",
      "(5475.0, 6387.5]      187\n",
      "(6387.5, 7300.0]       81\n",
      "(7300.0, 8212.5]        5\n",
      "(8212.5, 9125.0]        2\n",
      "Name: Age upon Outcome Days, dtype: int64\n"
     ]
    }
   ],
   "source": [
    "# Using value_counts function to observe the refined view of the numerical features.\n",
    "for N in numerical_features:\n",
    "    print(N)\n",
    "    print(df[N].value_counts(bins = 10, sort = False))\n",
    "    plt.show()"
   ]
  },
  {
   "cell_type": "markdown",
   "metadata": {},
   "source": [
    "* If any outliers or wrong values are identified then dropping them could improve the numerical values histograms, and later overall model performance. While a good rule of thumb is that anything not in the range of (Q1 - 1.5 IQR) and (Q3 + 1.5 IQR) is an outlier, other rules for removing 'outliers' should be considered as well. For example, removing any values in the upper 1%."
   ]
  },
  {
   "cell_type": "code",
   "execution_count": 21,
   "metadata": {},
   "outputs": [
    {
     "name": "stdout",
     "output_type": "stream",
     "text": [
      "Age upon Intake Days\n",
      "Age upon Outcome Days\n"
     ]
    }
   ],
   "source": [
    "# Removing the outliers from Numerical Features\n",
    "# Droping the values that is above 90% of maximum\n",
    "for N in numerical_features:\n",
    "    print(N)\n",
    "    dropIndexes = df[df[N] > df[N].max() * 0.9].index\n",
    "    df.drop(dropIndexes, inplace=True)"
   ]
  },
  {
   "cell_type": "code",
   "execution_count": 22,
   "metadata": {},
   "outputs": [
    {
     "name": "stdout",
     "output_type": "stream",
     "text": [
      "Age upon Intake Days\n",
      "(-6.936, 693.5]     61425\n",
      "(693.5, 1387.0]     18400\n",
      "(1387.0, 2080.5]     5657\n",
      "(2080.5, 2774.0]     3471\n",
      "(2774.0, 3467.5]     2557\n",
      "(3467.5, 4161.0]     1962\n",
      "(4161.0, 4854.5]     1148\n",
      "(4854.5, 5548.0]      596\n",
      "(5548.0, 6241.5]      183\n",
      "(6241.5, 6935.0]       63\n",
      "Name: Age upon Intake Days, dtype: int64\n",
      "Age upon Outcome Days\n",
      "(-6.936, 693.5]     61208\n",
      "(693.5, 1387.0]     18490\n",
      "(1387.0, 2080.5]     5643\n",
      "(2080.5, 2774.0]     3465\n",
      "(2774.0, 3467.5]     2600\n",
      "(3467.5, 4161.0]     2004\n",
      "(4161.0, 4854.5]     1196\n",
      "(4854.5, 5548.0]      604\n",
      "(5548.0, 6241.5]      187\n",
      "(6241.5, 6935.0]       65\n",
      "Name: Age upon Outcome Days, dtype: int64\n"
     ]
    }
   ],
   "source": [
    "# Using value_counts function to observe the refined view of the numerical features.\n",
    "for N in numerical_features:\n",
    "    print(N)\n",
    "    print(df[N].value_counts(bins = 10, sort = False))\n",
    "    plt.show()"
   ]
  },
  {
   "cell_type": "markdown",
   "metadata": {},
   "source": [
    "**Plotting Histograms**\n",
    "* Now, Plotting Histograms with higher visibility."
   ]
  },
  {
   "cell_type": "code",
   "execution_count": 23,
   "metadata": {},
   "outputs": [
    {
     "name": "stdout",
     "output_type": "stream",
     "text": [
      "Age upon Intake Days\n"
     ]
    },
    {
     "data": {
      "image/png": "[encoded data removed]",
      "text/plain": [
       "<Figure size 432x288 with 1 Axes>"
      ]
     },
     "metadata": {
      "needs_background": "light"
     },
     "output_type": "display_data"
    },
    {
     "name": "stdout",
     "output_type": "stream",
     "text": [
      "Age upon Outcome Days\n"
     ]
    },
    {
     "data": {
      "image/png": "[encoded data removed]",
      "text/plain": [
       "<Figure size 432x288 with 1 Axes>"
      ]
     },
     "metadata": {
      "needs_background": "light"
     },
     "output_type": "display_data"
    }
   ],
   "source": [
    "# Plotting Histograms with more visibility\n",
    "for N in numerical_features:\n",
    "    print(N)\n",
    "    df[N].plot.hist(bins = 100)\n",
    "    plt.show()"
   ]
  },
  {
   "cell_type": "markdown",
   "metadata": {},
   "source": [
    "### **Scatter Plots and Correlation**\n",
    "* Scatter Plots are simple 2D plots of two numerical variables that can be used to examine the relationship between two variables."
   ]
  },
  {
   "cell_type": "code",
   "execution_count": 24,
   "metadata": {},
   "outputs": [
    {
     "data": {
      "image/png": "[encoded data removed]",
      "text/plain": [
       "<Figure size 1152x1152 with 4 Axes>"
      ]
     },
     "metadata": {
      "needs_background": "light"
     },
     "output_type": "display_data"
    }
   ],
   "source": [
    "# Plotting the scatter plots to show the relationship between two numerical variables.\n",
    "fig, axes = plt.subplots(len(numerical_features), len(numerical_features), figsize = (16, 16), sharex = False, sharey = False)\n",
    "for i in range(0, len(numerical_features)):\n",
    "    for j in range(0, len(numerical_features)):\n",
    "        axes[i, j].scatter(x = df[numerical_features[i]], y = df[numerical_features[j]])\n",
    "fig.tight_layout()"
   ]
  },
  {
   "cell_type": "markdown",
   "metadata": {},
   "source": [
    "**Scatter Plots with Identification**\n",
    "* Putting the target values 0 and 1 in the scatter plot."
   ]
  },
  {
   "cell_type": "code",
   "execution_count": 25,
   "metadata": {},
   "outputs": [
    {
     "data": {
      "image/png": "[encoded data removed]",
      "text/plain": [
       "<Figure size 432x288 with 1 Axes>"
      ]
     },
     "metadata": {
      "needs_background": "light"
     },
     "output_type": "display_data"
    }
   ],
   "source": [
    "# Putting the target values in the scatter plot\n",
    "X1 = df[[numerical_features[0], numerical_features[1]]][df[target] == 0]\n",
    "X2 = df[[numerical_features[0], numerical_features[1]]][df[target] == 1]\n",
    "\n",
    "plt.scatter(X1.iloc[:, 0],\n",
    "           X1.iloc[:, 1],\n",
    "           s = 50,\n",
    "           c = \"blue\",\n",
    "           marker = \"o\",\n",
    "           label = \"0\")\n",
    "\n",
    "plt.scatter(X2.iloc[:, 0],\n",
    "           X2.iloc[:, 1],\n",
    "           s = 50,\n",
    "           c = \"red\",\n",
    "           marker = \"v\",\n",
    "           label = \"1\")\n",
    "plt.xlabel(numerical_features[0])\n",
    "plt.ylabel(numerical_features[1])\n",
    "plt.legend()\n",
    "plt.grid()\n",
    "plt.show()"
   ]
  },
  {
   "cell_type": "markdown",
   "metadata": {},
   "source": [
    "* Scatter Plots with identification can help to identify whether or not separation can be done between the data points, based on these two Numerical Features,"
   ]
  },
  {
   "cell_type": "markdown",
   "metadata": {},
   "source": [
    "**Correlation Matrix**\n",
    "* Correlation matrix and Correlation scores are calculated for Numerical Features."
   ]
  },
  {
   "cell_type": "code",
   "execution_count": 26,
   "metadata": {},
   "outputs": [
    {
     "data": {
      "text/html": [
       "<style  type=\"text/css\" >\n",
       "#T_eac4a566_e447_11ea_9963_d8d0905c9234row0_col0,#T_eac4a566_e447_11ea_9963_d8d0905c9234row1_col1{\n",
       "            background-color:  #d9d9d9;\n",
       "            color:  #000000;\n",
       "        }#T_eac4a566_e447_11ea_9963_d8d0905c9234row0_col1,#T_eac4a566_e447_11ea_9963_d8d0905c9234row1_col0{\n",
       "            background-color:  #3182bd;\n",
       "            color:  #000000;\n",
       "        }</style><table id=\"T_eac4a566_e447_11ea_9963_d8d0905c9234\" ><thead>    <tr>        <th class=\"blank level0\" ></th>        <th class=\"col_heading level0 col0\" >Age upon Intake Days</th>        <th class=\"col_heading level0 col1\" >Age upon Outcome Days</th>    </tr></thead><tbody>\n",
       "                <tr>\n",
       "                        <th id=\"T_eac4a566_e447_11ea_9963_d8d0905c9234level0_row0\" class=\"row_heading level0 row0\" >Age upon Intake Days</th>\n",
       "                        <td id=\"T_eac4a566_e447_11ea_9963_d8d0905c9234row0_col0\" class=\"data row0 col0\" >1.000000</td>\n",
       "                        <td id=\"T_eac4a566_e447_11ea_9963_d8d0905c9234row0_col1\" class=\"data row0 col1\" >0.998839</td>\n",
       "            </tr>\n",
       "            <tr>\n",
       "                        <th id=\"T_eac4a566_e447_11ea_9963_d8d0905c9234level0_row1\" class=\"row_heading level0 row1\" >Age upon Outcome Days</th>\n",
       "                        <td id=\"T_eac4a566_e447_11ea_9963_d8d0905c9234row1_col0\" class=\"data row1 col0\" >0.998839</td>\n",
       "                        <td id=\"T_eac4a566_e447_11ea_9963_d8d0905c9234row1_col1\" class=\"data row1 col1\" >1.000000</td>\n",
       "            </tr>\n",
       "    </tbody></table>"
      ],
      "text/plain": [
       "<pandas.io.formats.style.Styler at 0x292a0c08688>"
      ]
     },
     "execution_count": 26,
     "metadata": {},
     "output_type": "execute_result"
    }
   ],
   "source": [
    "# Correlation matrix\n",
    "# Columns \n",
    "cols = [numerical_features[0], numerical_features[1]]\n",
    "df[cols].corr().style.background_gradient(cmap = \"tab20c\")"
   ]
  },
  {
   "cell_type": "markdown",
   "metadata": {},
   "source": [
    "* Similar to Scatter plots, the Correlation Matrix also presents the relationship between the numerical features. Correlation values of -1 means the perfect negative correlation and Correlation values of 1 means the perfect positive correlation between the numerical features."
   ]
  },
  {
   "cell_type": "markdown",
   "metadata": {},
   "source": [
    "### **Handling Missing Values**\n",
    "* Missing Values can be handled in various ways:\n",
    "    * Dropping columns with missing values\n",
    "    * Dropping rows with missing values\n",
    "    * Imputing missing values with fillna()\n",
    "    * Imputing missing values with SimpleImputer"
   ]
  },
  {
   "cell_type": "markdown",
   "metadata": {},
   "source": [
    "* Checking the missing values in each columns in the DataFrame"
   ]
  },
  {
   "cell_type": "code",
   "execution_count": 27,
   "metadata": {},
   "outputs": [
    {
     "data": {
      "text/plain": [
       "Pet ID                       0\n",
       "Outcome Type                 0\n",
       "Sex upon Outcome             1\n",
       "Name                     36343\n",
       "Found Location               0\n",
       "Intake Type                  0\n",
       "Intake Condition             0\n",
       "Pet Type                     0\n",
       "Sex upon Intake              1\n",
       "Breed                        0\n",
       "Color                        0\n",
       "Age upon Intake Days         0\n",
       "Age upon Outcome Days        0\n",
       "dtype: int64"
      ]
     },
     "execution_count": 27,
     "metadata": {},
     "output_type": "execute_result"
    }
   ],
   "source": [
    "# Checking the missing values in each columns\n",
    "# Sum them together & count \n",
    "df.isna().sum()"
   ]
  },
  {
   "cell_type": "markdown",
   "metadata": {},
   "source": [
    "**Dropping Columns**\n",
    "* Dropping the columns with missing values. If there is significant amount of missing values in the particular column, dropping some columns or features will work. Here, dropping the columns with more than 20% missing values.\n"
   ]
  },
  {
   "cell_type": "code",
   "execution_count": 29,
   "metadata": {},
   "outputs": [
    {
     "name": "stdout",
     "output_type": "stream",
     "text": [
      "Missing values:\n",
      " Pet ID                   0.000000\n",
      "Outcome Type             0.000000\n",
      "Sex upon Outcome         0.000010\n",
      "Name                     0.380706\n",
      "Found Location           0.000000\n",
      "Intake Type              0.000000\n",
      "Intake Condition         0.000000\n",
      "Pet Type                 0.000000\n",
      "Sex upon Intake          0.000010\n",
      "Breed                    0.000000\n",
      "Color                    0.000000\n",
      "Age upon Intake Days     0.000000\n",
      "Age upon Outcome Days    0.000000\n",
      "dtype: float64\n"
     ]
    },
    {
     "data": {
      "text/html": [
       "<div>\n",
       "<style scoped>\n",
       "    .dataframe tbody tr th:only-of-type {\n",
       "        vertical-align: middle;\n",
       "    }\n",
       "\n",
       "    .dataframe tbody tr th {\n",
       "        vertical-align: top;\n",
       "    }\n",
       "\n",
       "    .dataframe thead th {\n",
       "        text-align: right;\n",
       "    }\n",
       "</style>\n",
       "<table border=\"1\" class=\"dataframe\">\n",
       "  <thead>\n",
       "    <tr style=\"text-align: right;\">\n",
       "      <th></th>\n",
       "      <th>Pet ID</th>\n",
       "      <th>Outcome Type</th>\n",
       "      <th>Sex upon Outcome</th>\n",
       "      <th>Found Location</th>\n",
       "      <th>Intake Type</th>\n",
       "      <th>Intake Condition</th>\n",
       "      <th>Pet Type</th>\n",
       "      <th>Sex upon Intake</th>\n",
       "      <th>Breed</th>\n",
       "      <th>Color</th>\n",
       "      <th>Age upon Intake Days</th>\n",
       "      <th>Age upon Outcome Days</th>\n",
       "    </tr>\n",
       "  </thead>\n",
       "  <tbody>\n",
       "    <tr>\n",
       "      <th>0</th>\n",
       "      <td>A794011</td>\n",
       "      <td>1.0</td>\n",
       "      <td>Neutered Male</td>\n",
       "      <td>Austin (TX)</td>\n",
       "      <td>Owner Surrender</td>\n",
       "      <td>Normal</td>\n",
       "      <td>Cat</td>\n",
       "      <td>Neutered Male</td>\n",
       "      <td>Domestic Shorthair Mix</td>\n",
       "      <td>Brown Tabby/White</td>\n",
       "      <td>730</td>\n",
       "      <td>730</td>\n",
       "    </tr>\n",
       "    <tr>\n",
       "      <th>1</th>\n",
       "      <td>A776359</td>\n",
       "      <td>1.0</td>\n",
       "      <td>Neutered Male</td>\n",
       "      <td>7201 Levander Loop in Austin (TX)</td>\n",
       "      <td>Stray</td>\n",
       "      <td>Normal</td>\n",
       "      <td>Dog</td>\n",
       "      <td>Intact Male</td>\n",
       "      <td>Chihuahua Shorthair Mix</td>\n",
       "      <td>White/Brown</td>\n",
       "      <td>365</td>\n",
       "      <td>365</td>\n",
       "    </tr>\n",
       "    <tr>\n",
       "      <th>2</th>\n",
       "      <td>A674754</td>\n",
       "      <td>0.0</td>\n",
       "      <td>Intact Male</td>\n",
       "      <td>12034 Research in Austin (TX)</td>\n",
       "      <td>Stray</td>\n",
       "      <td>Nursing</td>\n",
       "      <td>Cat</td>\n",
       "      <td>Intact Male</td>\n",
       "      <td>Domestic Shorthair Mix</td>\n",
       "      <td>Orange Tabby</td>\n",
       "      <td>6</td>\n",
       "      <td>6</td>\n",
       "    </tr>\n",
       "    <tr>\n",
       "      <th>3</th>\n",
       "      <td>A689724</td>\n",
       "      <td>1.0</td>\n",
       "      <td>Neutered Male</td>\n",
       "      <td>2300 Waterway Bnd in Austin (TX)</td>\n",
       "      <td>Stray</td>\n",
       "      <td>Normal</td>\n",
       "      <td>Cat</td>\n",
       "      <td>Intact Male</td>\n",
       "      <td>Domestic Shorthair Mix</td>\n",
       "      <td>Black</td>\n",
       "      <td>60</td>\n",
       "      <td>60</td>\n",
       "    </tr>\n",
       "    <tr>\n",
       "      <th>4</th>\n",
       "      <td>A680969</td>\n",
       "      <td>1.0</td>\n",
       "      <td>Neutered Male</td>\n",
       "      <td>4701 Staggerbrush Rd in Austin (TX)</td>\n",
       "      <td>Stray</td>\n",
       "      <td>Nursing</td>\n",
       "      <td>Cat</td>\n",
       "      <td>Intact Male</td>\n",
       "      <td>Domestic Shorthair Mix</td>\n",
       "      <td>White/Orange Tabby</td>\n",
       "      <td>7</td>\n",
       "      <td>60</td>\n",
       "    </tr>\n",
       "  </tbody>\n",
       "</table>\n",
       "</div>"
      ],
      "text/plain": [
       "    Pet ID  Outcome Type Sex upon Outcome  \\\n",
       "0  A794011           1.0    Neutered Male   \n",
       "1  A776359           1.0    Neutered Male   \n",
       "2  A674754           0.0      Intact Male   \n",
       "3  A689724           1.0    Neutered Male   \n",
       "4  A680969           1.0    Neutered Male   \n",
       "\n",
       "                        Found Location      Intake Type Intake Condition  \\\n",
       "0                          Austin (TX)  Owner Surrender           Normal   \n",
       "1    7201 Levander Loop in Austin (TX)            Stray           Normal   \n",
       "2        12034 Research in Austin (TX)            Stray          Nursing   \n",
       "3     2300 Waterway Bnd in Austin (TX)            Stray           Normal   \n",
       "4  4701 Staggerbrush Rd in Austin (TX)            Stray          Nursing   \n",
       "\n",
       "  Pet Type Sex upon Intake                    Breed               Color  \\\n",
       "0      Cat   Neutered Male   Domestic Shorthair Mix   Brown Tabby/White   \n",
       "1      Dog     Intact Male  Chihuahua Shorthair Mix         White/Brown   \n",
       "2      Cat     Intact Male   Domestic Shorthair Mix        Orange Tabby   \n",
       "3      Cat     Intact Male   Domestic Shorthair Mix               Black   \n",
       "4      Cat     Intact Male   Domestic Shorthair Mix  White/Orange Tabby   \n",
       "\n",
       "   Age upon Intake Days  Age upon Outcome Days  \n",
       "0                   730                    730  \n",
       "1                   365                    365  \n",
       "2                     6                      6  \n",
       "3                    60                     60  \n",
       "4                     7                     60  "
      ]
     },
     "execution_count": 29,
     "metadata": {},
     "output_type": "execute_result"
    }
   ],
   "source": [
    "# Dropping columns with more than 20% missing values.\n",
    "threshold = 0.2\n",
    "print(f\"Missing values:\\n {df.isna().mean()}\")\n",
    "columns_drop = df.loc[:, list(df.isna().mean() > threshold)].columns\n",
    "\n",
    "new_df = df.drop(columns_drop, axis = 1)\n",
    "new_df.head()"
   ]
  },
  {
   "cell_type": "markdown",
   "metadata": {},
   "source": [
    "**Observing the New DataFrame**\n",
    "* Looking the missing values and shape of the New DataFrame"
   ]
  },
  {
   "cell_type": "code",
   "execution_count": 31,
   "metadata": {},
   "outputs": [
    {
     "data": {
      "text/plain": [
       "(Pet ID                   0\n",
       " Outcome Type             0\n",
       " Sex upon Outcome         1\n",
       " Found Location           0\n",
       " Intake Type              0\n",
       " Intake Condition         0\n",
       " Pet Type                 0\n",
       " Sex upon Intake          1\n",
       " Breed                    0\n",
       " Color                    0\n",
       " Age upon Intake Days     0\n",
       " Age upon Outcome Days    0\n",
       " dtype: int64,\n",
       " (95462, 12))"
      ]
     },
     "execution_count": 31,
     "metadata": {},
     "output_type": "execute_result"
    }
   ],
   "source": [
    "# Missing values\n",
    "new_df.isna().sum(), new_df.shape"
   ]
  },
  {
   "cell_type": "markdown",
   "metadata": {},
   "source": [
    "* Here, The size of the DataFrame has reduced and this act of dropping the columns may also result in under-fitting of the Model because most of the Data will be lost."
   ]
  },
  {
   "cell_type": "markdown",
   "metadata": {},
   "source": [
    "**Dropping Rows**\n",
    "* Rows with missing values can be dropped easily."
   ]
  },
  {
   "cell_type": "code",
   "execution_count": 32,
   "metadata": {},
   "outputs": [
    {
     "data": {
      "text/plain": [
       "Pet ID                   0\n",
       "Outcome Type             0\n",
       "Sex upon Outcome         0\n",
       "Found Location           0\n",
       "Intake Type              0\n",
       "Intake Condition         0\n",
       "Pet Type                 0\n",
       "Sex upon Intake          0\n",
       "Breed                    0\n",
       "Color                    0\n",
       "Age upon Intake Days     0\n",
       "Age upon Outcome Days    0\n",
       "dtype: int64"
      ]
     },
     "execution_count": 32,
     "metadata": {},
     "output_type": "execute_result"
    }
   ],
   "source": [
    "# Dropping the rows with missing values\n",
    "data = new_df.dropna()\n",
    "data.isna().sum()"
   ]
  },
  {
   "cell_type": "code",
   "execution_count": 33,
   "metadata": {},
   "outputs": [
    {
     "data": {
      "text/plain": [
       "(95461, 12)"
      ]
     },
     "execution_count": 33,
     "metadata": {},
     "output_type": "execute_result"
    }
   ],
   "source": [
    "# Observing the DataFrame\n",
    "data.shape"
   ]
  },
  {
   "cell_type": "markdown",
   "metadata": {},
   "source": [
    "* Here, the size of the DataFrame has reduced tremendously. This approach may result in over-fitting because the training data may become less than the testing data."
   ]
  },
  {
   "cell_type": "markdown",
   "metadata": {},
   "source": [
    "### **Imputing**\n"
   ]
  },
  {
   "cell_type": "markdown",
   "metadata": {},
   "source": [
    "**Imputing the Numerical Values**\n",
    "* The easiest way to impute the Numerical Values is to get the average for the corresponding column and to impute the value in the missing values."
   ]
  },
  {
   "cell_type": "code",
   "execution_count": 35,
   "metadata": {},
   "outputs": [
    {
     "name": "stdout",
     "output_type": "stream",
     "text": [
      "Age upon Intake Days     0\n",
      "Age upon Outcome Days    0\n",
      "dtype: int64\n",
      "Age upon Intake Days     0\n",
      "Age upon Outcome Days    0\n",
      "dtype: int64\n"
     ]
    }
   ],
   "source": [
    "# Imputing Numerical Values\n",
    "num_df = df.copy()\n",
    "print(num_df[numerical_features].isna().sum())\n",
    "\n",
    "num_df[numerical_features] = num_df[numerical_features].fillna(num_df[numerical_features].mean())\n",
    "print(num_df[numerical_features].isna().sum())"
   ]
  },
  {
   "cell_type": "markdown",
   "metadata": {},
   "source": [
    "**Imputing Categorical Values**\n",
    "* For missing values in Categorical Values, the most common value for the corresponding columns can be used to assign new value for the missing values in that column."
   ]
  },
  {
   "cell_type": "code",
   "execution_count": 38,
   "metadata": {},
   "outputs": [
    {
     "name": "stdout",
     "output_type": "stream",
     "text": [
      "Pet ID                  0\n",
      "Sex upon Outcome        1\n",
      "Name                36343\n",
      "Found Location          0\n",
      "Intake Type             0\n",
      "Intake Condition        0\n",
      "Pet Type                0\n",
      "Sex upon Intake         1\n",
      "Breed                   0\n",
      "Color                   0\n",
      "dtype: int64\n",
      "Pet ID 0        A047759\n",
      "1        A134067\n",
      "2        A141142\n",
      "3        A163459\n",
      "4        A165752\n",
      "          ...   \n",
      "95457    A819862\n",
      "95458    A819864\n",
      "95459    A819865\n",
      "95460    A819895\n",
      "95461    A819908\n",
      "Length: 95462, dtype: object\n",
      "Sex upon Outcome 0    Neutered Male\n",
      "dtype: object\n",
      "Name 0    Bella\n",
      "dtype: object\n",
      "Found Location 0    Austin (TX)\n",
      "dtype: object\n",
      "Intake Type 0    Stray\n",
      "dtype: object\n",
      "Intake Condition 0    Normal\n",
      "dtype: object\n",
      "Pet Type 0    Dog\n",
      "dtype: object\n",
      "Sex upon Intake 0    Intact Male\n",
      "dtype: object\n",
      "Breed 0    Domestic Shorthair Mix\n",
      "dtype: object\n",
      "Color 0    Black/White\n",
      "dtype: object\n",
      "Pet ID              0\n",
      "Sex upon Outcome    0\n",
      "Name                0\n",
      "Found Location      0\n",
      "Intake Type         0\n",
      "Intake Condition    0\n",
      "Pet Type            0\n",
      "Sex upon Intake     0\n",
      "Breed               0\n",
      "Color               0\n",
      "dtype: int64\n"
     ]
    }
   ],
   "source": [
    "# Imputing the missing values with Mode or most common values\n",
    "cat_df = df.copy()\n",
    "print(cat_df[categorical_features].isna().sum())\n",
    "\n",
    "for C in categorical_features:\n",
    "    mode_imput = cat_df[C].mode()\n",
    "    print(C, mode_imput)\n",
    "    cat_df[C].fillna(False, inplace = True)\n",
    "\n",
    "print(cat_df[categorical_features].isna().sum())"
   ]
  },
  {
   "cell_type": "markdown",
   "metadata": {},
   "source": [
    "* Creating new category \"Missing\" for missing values in Categorical Features."
   ]
  },
  {
   "cell_type": "code",
   "execution_count": 39,
   "metadata": {},
   "outputs": [
    {
     "name": "stdout",
     "output_type": "stream",
     "text": [
      "Pet ID                  0\n",
      "Sex upon Outcome        1\n",
      "Name                36343\n",
      "Found Location          0\n",
      "Intake Type             0\n",
      "Intake Condition        0\n",
      "Pet Type                0\n",
      "Sex upon Intake         1\n",
      "Breed                   0\n",
      "Color                   0\n",
      "dtype: int64\n",
      "Pet ID              0\n",
      "Sex upon Outcome    0\n",
      "Name                0\n",
      "Found Location      0\n",
      "Intake Type         0\n",
      "Intake Condition    0\n",
      "Pet Type            0\n",
      "Sex upon Intake     0\n",
      "Breed               0\n",
      "Color               0\n",
      "dtype: int64\n"
     ]
    }
   ],
   "source": [
    "# Imputing missing values with new category \"Missing\"\n",
    "cat_df = df.copy()\n",
    "print(cat_df[categorical_features].isna().sum())\n",
    "\n",
    "# Imputing\n",
    "cat_df[categorical_features] = cat_df[categorical_features].fillna(\"Missing\")\n",
    "print(cat_df[categorical_features].isna().sum())"
   ]
  },
  {
   "cell_type": "markdown",
   "metadata": {},
   "source": [
    "### **Imputing with SimpleImputer**\n"
   ]
  },
  {
   "cell_type": "markdown",
   "metadata": {},
   "source": [
    "**Numerical Values**"
   ]
  },
  {
   "cell_type": "code",
   "execution_count": 40,
   "metadata": {},
   "outputs": [
    {
     "name": "stdout",
     "output_type": "stream",
     "text": [
      "Age upon Intake Days     0\n",
      "Age upon Outcome Days    0\n",
      "dtype: int64\n",
      "Age upon Intake Days     0\n",
      "Age upon Outcome Days    0\n",
      "dtype: int64\n"
     ]
    }
   ],
   "source": [
    "# SimpleImputer in Numerical Values\n",
    "df1 = df.copy()\n",
    "print(df1[numerical_features].isna().sum())\n",
    "\n",
    "# Using SimpleImputer\n",
    "imputer = SimpleImputer(strategy = \"mean\")\n",
    "df1[numerical_features] = imputer.fit_transform(df1[numerical_features])\n",
    "print(df1[numerical_features].isna().sum())"
   ]
  },
  {
   "cell_type": "markdown",
   "metadata": {},
   "source": [
    "**Categorical Features**\n"
   ]
  },
  {
   "cell_type": "code",
   "execution_count": 42,
   "metadata": {
    "scrolled": true
   },
   "outputs": [
    {
     "name": "stdout",
     "output_type": "stream",
     "text": [
      "Pet ID                  0\n",
      "Sex upon Outcome        1\n",
      "Name                36343\n",
      "Found Location          0\n",
      "Intake Type             0\n",
      "Intake Condition        0\n",
      "Pet Type                0\n",
      "Sex upon Intake         1\n",
      "Breed                   0\n",
      "Color                   0\n",
      "dtype: int64\n",
      "Pet ID              0\n",
      "Sex upon Outcome    0\n",
      "Name                0\n",
      "Found Location      0\n",
      "Intake Type         0\n",
      "Intake Condition    0\n",
      "Pet Type            0\n",
      "Sex upon Intake     0\n",
      "Breed               0\n",
      "Color               0\n",
      "dtype: int64\n"
     ]
    }
   ],
   "source": [
    "# Simple Imputer in Categorical Features\n",
    "df2 = df.copy()\n",
    "print(df2[categorical_features].isna().sum())\n",
    "\n",
    "# Using Simple Imputer\n",
    "imputer = SimpleImputer(strategy = \"most_frequent\")\n",
    "df2[categorical_features] = imputer.fit_transform(df2[categorical_features])\n",
    "print(df2[categorical_features].isna().sum())"
   ]
  }
 ],
 "metadata": {
  "kernelspec": {
   "display_name": "Python 3",
   "language": "python",
   "name": "python3"
  },
  "language_info": {
   "codemirror_mode": {
    "name": "ipython",
    "version": 3
   },
   "file_extension": ".py",
   "mimetype": "text/x-python",
   "name": "python",
   "nbconvert_exporter": "python",
   "pygments_lexer": "ipython3",
   "version": "3.7.7"
  }
 },
 "nbformat": 4,
 "nbformat_minor": 4
}
